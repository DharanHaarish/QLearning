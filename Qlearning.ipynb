{
  "nbformat": 4,
  "nbformat_minor": 0,
  "metadata": {
    "colab": {
      "name": "Qlearning.ipynb",
      "provenance": []
    },
    "kernelspec": {
      "name": "python3",
      "display_name": "Python 3"
    },
    "accelerator": "GPU"
  },
  "cells": [
    {
      "cell_type": "code",
      "metadata": {
        "id": "Nens1m4kocL4"
      },
      "source": [
        "import numpy as np\n",
        "import random as rd\n",
        "import gym"
      ],
      "execution_count": null,
      "outputs": []
    },
    {
      "cell_type": "code",
      "metadata": {
        "id": "YUIBTQ2VooKb"
      },
      "source": [
        "env = gym.make(\"Taxi-v3\")"
      ],
      "execution_count": null,
      "outputs": []
    },
    {
      "cell_type": "code",
      "metadata": {
        "colab": {
          "base_uri": "https://localhost:8080/"
        },
        "id": "BQywLNFTpKjT",
        "outputId": "dbdabce5-bba5-47c3-861b-266bc0e9b31e"
      },
      "source": [
        "env.render()"
      ],
      "execution_count": null,
      "outputs": [
        {
          "output_type": "stream",
          "text": [
            "+---------+\n",
            "|R: | : :\u001b[34;1mG\u001b[0m|\n",
            "| : | : :\u001b[43m \u001b[0m|\n",
            "| : : : : |\n",
            "| | : | : |\n",
            "|Y| : |\u001b[35mB\u001b[0m: |\n",
            "+---------+\n",
            "\n"
          ],
          "name": "stdout"
        }
      ]
    },
    {
      "cell_type": "code",
      "metadata": {
        "id": "e2LtEwC1pMwe"
      },
      "source": [
        "action_size = env.action_space.n\n",
        "state_size = env.observation_space.n"
      ],
      "execution_count": null,
      "outputs": []
    },
    {
      "cell_type": "code",
      "metadata": {
        "colab": {
          "base_uri": "https://localhost:8080/"
        },
        "id": "qjqpW_8lpo5f",
        "outputId": "b2b848e9-0b91-4ca0-a495-02e2af517ff0"
      },
      "source": [
        "action_size"
      ],
      "execution_count": null,
      "outputs": [
        {
          "output_type": "execute_result",
          "data": {
            "text/plain": [
              "6"
            ]
          },
          "metadata": {
            "tags": []
          },
          "execution_count": 7
        }
      ]
    },
    {
      "cell_type": "code",
      "metadata": {
        "colab": {
          "base_uri": "https://localhost:8080/"
        },
        "id": "_TqHWqbeptkw",
        "outputId": "18658074-1c14-491b-b539-0de02119c474"
      },
      "source": [
        "qtable = np.zeros((state_size,action_size))\n",
        "print(qtable)"
      ],
      "execution_count": null,
      "outputs": [
        {
          "output_type": "stream",
          "text": [
            "[[0. 0. 0. 0. 0. 0.]\n",
            " [0. 0. 0. 0. 0. 0.]\n",
            " [0. 0. 0. 0. 0. 0.]\n",
            " ...\n",
            " [0. 0. 0. 0. 0. 0.]\n",
            " [0. 0. 0. 0. 0. 0.]\n",
            " [0. 0. 0. 0. 0. 0.]]\n"
          ],
          "name": "stdout"
        }
      ]
    },
    {
      "cell_type": "code",
      "metadata": {
        "id": "vbDp19WbqGCp"
      },
      "source": [
        "total_episodes = 200000\n",
        "test_episodes = 100\n",
        "max_Steps = 100\n",
        "learning_rate = 0.7\n",
        "gamma = 0.85\n",
        "epsilon = 1.0                \n",
        "max_epsilon = 1.0            \n",
        "min_epsilon = 0.01            \n",
        "decay_rate = 0.01 "
      ],
      "execution_count": null,
      "outputs": []
    },
    {
      "cell_type": "code",
      "metadata": {
        "id": "bxn3Rs0jr6TF"
      },
      "source": [
        "for episode in range(total_episodes):\n",
        "    state = env.reset()\n",
        "    step = 0\n",
        "    done = False\n",
        "    \n",
        "    for step in range(max_Steps):\n",
        "      \n",
        "      exp_exp_tradeoff = rd.uniform(0,1)\n",
        "        \n",
        "      if exp_exp_tradeoff > epsilon:\n",
        "        action = np.argmax(qtable[state,:])\n",
        "        \n",
        "      else:\n",
        "        action = env.action_space.sample()\n",
        "        \n",
        "      new_state, reward, done, info = env.step(action)\n",
        "\n",
        "      qtable[state, action] = qtable[state, action] + learning_rate * (reward + gamma * np.max(qtable[new_state, :]) - qtable[state, action])\n",
        "                \n",
        "      state = new_state\n",
        "        \n",
        "      if done == True: \n",
        "        break\n",
        "    \n",
        "    \n",
        "    epsilon = min_epsilon + (max_epsilon - min_epsilon)*np.exp(-decay_rate*episode)"
      ],
      "execution_count": null,
      "outputs": []
    },
    {
      "cell_type": "code",
      "metadata": {
        "colab": {
          "base_uri": "https://localhost:8080/"
        },
        "id": "qw6ikuWwtejo",
        "outputId": "535acdce-f5e5-44db-9937-34a3b14c197d"
      },
      "source": [
        "env.reset()\n",
        "rewards = []\n",
        "\n",
        "for episode in range(test_episodes):\n",
        "    state = env.reset()\n",
        "    step = 0\n",
        "    done = False\n",
        "    total_rewards = 0\n",
        "    #print(\"****************************************************\")\n",
        "    #print(\"EPISODE \", episode)\n",
        "\n",
        "    for step in range(max_Steps):\n",
        "        # UNCOMMENT IT IF YOU WANT TO SEE OUR AGENT PLAYING\n",
        "        #env.render()\n",
        "        # Take the action (index) that have the maximum expected future reward given that state\n",
        "        action = np.argmax(qtable[state,:])\n",
        "        \n",
        "        new_state, reward, done, info = env.step(action)\n",
        "        \n",
        "        total_rewards += reward\n",
        "        \n",
        "        if done:\n",
        "            rewards.append(total_rewards)\n",
        "            #print (\"Score\", total_rewards)\n",
        "            break\n",
        "        state = new_state\n",
        "env.close()\n",
        "print (\"Score over time: \" +  str(sum(rewards)/test_episodes))"
      ],
      "execution_count": null,
      "outputs": [
        {
          "output_type": "stream",
          "text": [
            "Score over time: 8.13\n"
          ],
          "name": "stdout"
        }
      ]
    },
    {
      "cell_type": "code",
      "metadata": {
        "id": "LhzHfvc2DzPc"
      },
      "source": [
        "env1 = gym.make(\"FrozenLake-v0\")"
      ],
      "execution_count": null,
      "outputs": []
    },
    {
      "cell_type": "code",
      "metadata": {
        "colab": {
          "base_uri": "https://localhost:8080/"
        },
        "id": "FGJ7hRayEbkV",
        "outputId": "790c6aaa-890f-4336-e29f-858729ae06b9"
      },
      "source": [
        "env1.render()"
      ],
      "execution_count": null,
      "outputs": [
        {
          "output_type": "stream",
          "text": [
            "\n",
            "\u001b[41mS\u001b[0mFFF\n",
            "FHFH\n",
            "FFFH\n",
            "HFFG\n"
          ],
          "name": "stdout"
        }
      ]
    },
    {
      "cell_type": "code",
      "metadata": {
        "id": "xxflfKNCEsw6"
      },
      "source": [
        ""
      ],
      "execution_count": null,
      "outputs": []
    }
  ]
}